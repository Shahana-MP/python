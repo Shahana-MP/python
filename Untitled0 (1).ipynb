{
  "nbformat": 4,
  "nbformat_minor": 0,
  "metadata": {
    "colab": {
      "provenance": []
    },
    "kernelspec": {
      "name": "python3",
      "display_name": "Python 3"
    },
    "language_info": {
      "name": "python"
    }
  },
  "cells": [
    {
      "cell_type": "code",
      "execution_count": null,
      "metadata": {
        "colab": {
          "base_uri": "https://localhost:8080/"
        },
        "id": "zcck82_HX2NL",
        "outputId": "aa7f7b97-8400-4a02-ee58-ccdef3ba08a1"
      },
      "outputs": [
        {
          "output_type": "stream",
          "name": "stdout",
          "text": [
            "['mango', 'apple', 'orange']\n"
          ]
        }
      ],
      "source": [
        "s=[\"mango\",\"apple\",\"orange\"]\n",
        "print(s)"
      ]
    },
    {
      "cell_type": "code",
      "source": [
        "sub=[\"EVS\",\"Economics\",\"English\"]\n",
        "print(sub)"
      ],
      "metadata": {
        "colab": {
          "base_uri": "https://localhost:8080/"
        },
        "id": "SiSJDc-Daolw",
        "outputId": "9e4114b3-f86d-4770-9393-6802f8923165"
      },
      "execution_count": null,
      "outputs": [
        {
          "output_type": "stream",
          "name": "stdout",
          "text": [
            "['EVS', 'Economics', 'English']\n"
          ]
        }
      ]
    },
    {
      "cell_type": "code",
      "source": [
        "print('s')"
      ],
      "metadata": {
        "colab": {
          "base_uri": "https://localhost:8080/"
        },
        "id": "QoHzaxmUbMbJ",
        "outputId": "e300e43b-3bc3-40c2-81ca-a4b91e04fc06"
      },
      "execution_count": null,
      "outputs": [
        {
          "output_type": "stream",
          "name": "stdout",
          "text": [
            "s\n"
          ]
        }
      ]
    },
    {
      "cell_type": "code",
      "source": [
        "print(len(s))"
      ],
      "metadata": {
        "colab": {
          "base_uri": "https://localhost:8080/"
        },
        "id": "6aO9lqnDb62i",
        "outputId": "70b2794e-762b-4bc9-e62e-38c1becce070"
      },
      "execution_count": null,
      "outputs": [
        {
          "output_type": "stream",
          "name": "stdout",
          "text": [
            "3\n"
          ]
        }
      ]
    },
    {
      "cell_type": "code",
      "source": [
        "print(s[-2])"
      ],
      "metadata": {
        "colab": {
          "base_uri": "https://localhost:8080/"
        },
        "id": "Xnmli-XNdMBL",
        "outputId": "e01fb14d-9db6-46df-c907-b7eb550f5b2b"
      },
      "execution_count": null,
      "outputs": [
        {
          "output_type": "stream",
          "name": "stdout",
          "text": [
            "apple\n"
          ]
        }
      ]
    },
    {
      "cell_type": "code",
      "source": [
        "a=[1,2,3]\n",
        "b=[\"apple\",'mango','orange']\n",
        "sum=a+b\n",
        "print(sum)"
      ],
      "metadata": {
        "colab": {
          "base_uri": "https://localhost:8080/"
        },
        "id": "aXc98UNBd6uD",
        "outputId": "ef414b92-c4a0-4848-a116-d2b96e12e4f7"
      },
      "execution_count": null,
      "outputs": [
        {
          "output_type": "stream",
          "name": "stdout",
          "text": [
            "[1, 2, 3, 'apple', 'mango', 'orange']\n"
          ]
        }
      ]
    },
    {
      "cell_type": "code",
      "source": [
        "s=[\"mango\",\"apple\",\"orange\"]\n",
        "s[0]=\"onion\"\n",
        "print(s)"
      ],
      "metadata": {
        "colab": {
          "base_uri": "https://localhost:8080/"
        },
        "id": "FGOGj4vJo8UV",
        "outputId": "fb869912-84db-429a-a572-ca8df3b76339"
      },
      "execution_count": null,
      "outputs": [
        {
          "output_type": "stream",
          "name": "stdout",
          "text": [
            "['onion', 'apple', 'orange']\n"
          ]
        }
      ]
    },
    {
      "cell_type": "code",
      "source": [
        "s.append(\"grape\")\n",
        "print(s)"
      ],
      "metadata": {
        "colab": {
          "base_uri": "https://localhost:8080/"
        },
        "id": "7-jgTDk0qT7V",
        "outputId": "238d36ec-3614-4b89-95df-d3d07089d762"
      },
      "execution_count": null,
      "outputs": [
        {
          "output_type": "stream",
          "name": "stdout",
          "text": [
            "['onion', 'apple', 'orange', 'grape']\n"
          ]
        }
      ]
    },
    {
      "cell_type": "code",
      "source": [
        "s.append(\"banana\")\n",
        "print(s)"
      ],
      "metadata": {
        "colab": {
          "base_uri": "https://localhost:8080/"
        },
        "id": "c_zHC9NZrKPn",
        "outputId": "d1f0eaee-401b-48fa-f922-361b8017e0c5"
      },
      "execution_count": null,
      "outputs": [
        {
          "output_type": "stream",
          "name": "stdout",
          "text": [
            "['onion', 'apple', 'orange', 'grape', 'banana']\n"
          ]
        }
      ]
    },
    {
      "cell_type": "code",
      "source": [
        "s.insert(6,\"carret\")\n",
        "print(s)"
      ],
      "metadata": {
        "colab": {
          "base_uri": "https://localhost:8080/"
        },
        "id": "4HPRA09qrqCF",
        "outputId": "3662b4c7-b31d-419c-f982-a01b305cc1bd"
      },
      "execution_count": null,
      "outputs": [
        {
          "output_type": "stream",
          "name": "stdout",
          "text": [
            "[1, 2, 'mango', 'onion', 'apple', 'orange', 'carret', 'grape', 'banana']\n"
          ]
        }
      ]
    },
    {
      "cell_type": "code",
      "source": [
        "b=[1,2,3]\n",
        "c=[4,'s']\n",
        "b.extend(c)\n",
        "print(b)"
      ],
      "metadata": {
        "colab": {
          "base_uri": "https://localhost:8080/"
        },
        "id": "8wvgV46BsLZ-",
        "outputId": "6874be9e-ebe6-4863-8213-fa10f70d9d54"
      },
      "execution_count": null,
      "outputs": [
        {
          "output_type": "stream",
          "name": "stdout",
          "text": [
            "[1, 2, 3, 4, 's']\n"
          ]
        }
      ]
    },
    {
      "cell_type": "code",
      "source": [
        "s.remove(2)\n",
        "print(s)"
      ],
      "metadata": {
        "colab": {
          "base_uri": "https://localhost:8080/"
        },
        "id": "eRloeTRYuNKv",
        "outputId": "498c6584-a738-405f-98c3-957e0ad380f3"
      },
      "execution_count": null,
      "outputs": [
        {
          "output_type": "stream",
          "name": "stdout",
          "text": [
            "['onion', 'apple', 'orange', 'carret', 'grape', 'banana']\n"
          ]
        }
      ]
    },
    {
      "cell_type": "code",
      "source": [
        "s.clear()\n",
        "print(s)"
      ],
      "metadata": {
        "colab": {
          "base_uri": "https://localhost:8080/"
        },
        "id": "_0EjnaRNvfi0",
        "outputId": "9bb9990d-ac96-437a-c131-3b39a76f39b7"
      },
      "execution_count": null,
      "outputs": [
        {
          "output_type": "stream",
          "name": "stdout",
          "text": [
            "[]\n"
          ]
        }
      ]
    },
    {
      "cell_type": "code",
      "source": [
        "del s\n",
        "print(s)"
      ],
      "metadata": {
        "colab": {
          "base_uri": "https://localhost:8080/",
          "height": 164
        },
        "id": "bXbB98b3wPZT",
        "outputId": "735291bf-6506-45c9-a855-91d5ccccb402"
      },
      "execution_count": null,
      "outputs": [
        {
          "output_type": "error",
          "ename": "NameError",
          "evalue": "name 's' is not defined",
          "traceback": [
            "\u001b[0;31m---------------------------------------------------------------------------\u001b[0m",
            "\u001b[0;31mNameError\u001b[0m                                 Traceback (most recent call last)",
            "\u001b[0;32m<ipython-input-35-5477e9d4b00d>\u001b[0m in \u001b[0;36m<cell line: 2>\u001b[0;34m()\u001b[0m\n\u001b[1;32m      1\u001b[0m \u001b[0;32mdel\u001b[0m \u001b[0ms\u001b[0m\u001b[0;34m\u001b[0m\u001b[0;34m\u001b[0m\u001b[0m\n\u001b[0;32m----> 2\u001b[0;31m \u001b[0mprint\u001b[0m\u001b[0;34m(\u001b[0m\u001b[0ms\u001b[0m\u001b[0;34m)\u001b[0m\u001b[0;34m\u001b[0m\u001b[0;34m\u001b[0m\u001b[0m\n\u001b[0m",
            "\u001b[0;31mNameError\u001b[0m: name 's' is not defined"
          ]
        }
      ]
    },
    {
      "cell_type": "code",
      "source": [
        "product=(\"notebook\",\"pen\",\"pencil\")\n",
        "print(product)"
      ],
      "metadata": {
        "colab": {
          "base_uri": "https://localhost:8080/"
        },
        "id": "7FDRkL-Sw1Jw",
        "outputId": "e741f713-8e5f-434a-cd8d-a2ea8010d1fe"
      },
      "execution_count": null,
      "outputs": [
        {
          "output_type": "stream",
          "name": "stdout",
          "text": [
            "('notebook', 'pen', 'pencil')\n"
          ]
        }
      ]
    },
    {
      "cell_type": "code",
      "source": [
        "print(type(product))"
      ],
      "metadata": {
        "colab": {
          "base_uri": "https://localhost:8080/"
        },
        "id": "A0TljMy3yLJX",
        "outputId": "73297e44-6f49-4abe-a5e6-f2992a99aa1e"
      },
      "execution_count": null,
      "outputs": [
        {
          "output_type": "stream",
          "name": "stdout",
          "text": [
            "<class 'tuple'>\n"
          ]
        }
      ]
    },
    {
      "cell_type": "code",
      "source": [
        "print(len(product))"
      ],
      "metadata": {
        "colab": {
          "base_uri": "https://localhost:8080/"
        },
        "id": "CQLYFDfNyU0q",
        "outputId": "14029e10-3dd0-4116-a8dd-7b91b7460b53"
      },
      "execution_count": null,
      "outputs": [
        {
          "output_type": "stream",
          "name": "stdout",
          "text": [
            "3\n"
          ]
        }
      ]
    },
    {
      "cell_type": "code",
      "source": [
        "item=(\"car\",\"cycle\")\n",
        "sum=product+item\n",
        "print(sum)"
      ],
      "metadata": {
        "colab": {
          "base_uri": "https://localhost:8080/"
        },
        "id": "4h2DKyL2yzEO",
        "outputId": "14a4bd60-6410-4764-a9c7-b6ff0b046af0"
      },
      "execution_count": null,
      "outputs": [
        {
          "output_type": "stream",
          "name": "stdout",
          "text": [
            "('notebook', 'pen', 'pencil', 'car', 'cycle')\n"
          ]
        }
      ]
    },
    {
      "cell_type": "code",
      "source": [
        "product.append(\"text\")\n",
        "print(product)"
      ],
      "metadata": {
        "colab": {
          "base_uri": "https://localhost:8080/",
          "height": 164
        },
        "id": "L6GyGC53zqI8",
        "outputId": "2ddfe762-cf44-435c-fc08-5b5cf380420d"
      },
      "execution_count": null,
      "outputs": [
        {
          "output_type": "error",
          "ename": "AttributeError",
          "evalue": "'tuple' object has no attribute 'append'",
          "traceback": [
            "\u001b[0;31m---------------------------------------------------------------------------\u001b[0m",
            "\u001b[0;31mAttributeError\u001b[0m                            Traceback (most recent call last)",
            "\u001b[0;32m<ipython-input-40-71a4ad6fbb21>\u001b[0m in \u001b[0;36m<cell line: 1>\u001b[0;34m()\u001b[0m\n\u001b[0;32m----> 1\u001b[0;31m \u001b[0mproduct\u001b[0m\u001b[0;34m.\u001b[0m\u001b[0mappend\u001b[0m\u001b[0;34m(\u001b[0m\u001b[0;34m\"text\"\u001b[0m\u001b[0;34m)\u001b[0m\u001b[0;34m\u001b[0m\u001b[0;34m\u001b[0m\u001b[0m\n\u001b[0m\u001b[1;32m      2\u001b[0m \u001b[0mprint\u001b[0m\u001b[0;34m(\u001b[0m\u001b[0mproduct\u001b[0m\u001b[0;34m)\u001b[0m\u001b[0;34m\u001b[0m\u001b[0;34m\u001b[0m\u001b[0m\n",
            "\u001b[0;31mAttributeError\u001b[0m: 'tuple' object has no attribute 'append'"
          ]
        }
      ]
    },
    {
      "cell_type": "code",
      "source": [
        "a={\"add\",\"substract\",\"devide\",\"mutiple\",4}\n",
        "print(a)"
      ],
      "metadata": {
        "colab": {
          "base_uri": "https://localhost:8080/"
        },
        "id": "d698axaEz6yT",
        "outputId": "97d5e4fe-eca0-49aa-d518-bcabe9c116ae"
      },
      "execution_count": null,
      "outputs": [
        {
          "output_type": "stream",
          "name": "stdout",
          "text": [
            "{'devide', 4, 'add', 'substract', 'mutiple'}\n"
          ]
        }
      ]
    },
    {
      "cell_type": "code",
      "source": [
        "print(a[0])"
      ],
      "metadata": {
        "colab": {
          "base_uri": "https://localhost:8080/",
          "height": 146
        },
        "id": "aENRw_Xf03_X",
        "outputId": "17cec8d7-9e25-49ef-a8dd-250e474e654d"
      },
      "execution_count": null,
      "outputs": [
        {
          "output_type": "error",
          "ename": "TypeError",
          "evalue": "'set' object is not subscriptable",
          "traceback": [
            "\u001b[0;31m---------------------------------------------------------------------------\u001b[0m",
            "\u001b[0;31mTypeError\u001b[0m                                 Traceback (most recent call last)",
            "\u001b[0;32m<ipython-input-47-23821ec76b06>\u001b[0m in \u001b[0;36m<cell line: 1>\u001b[0;34m()\u001b[0m\n\u001b[0;32m----> 1\u001b[0;31m \u001b[0mprint\u001b[0m\u001b[0;34m(\u001b[0m\u001b[0ma\u001b[0m\u001b[0;34m[\u001b[0m\u001b[0;36m0\u001b[0m\u001b[0;34m]\u001b[0m\u001b[0;34m)\u001b[0m\u001b[0;34m\u001b[0m\u001b[0;34m\u001b[0m\u001b[0m\n\u001b[0m",
            "\u001b[0;31mTypeError\u001b[0m: 'set' object is not subscriptable"
          ]
        }
      ]
    },
    {
      "cell_type": "code",
      "source": [
        "print(len(a))"
      ],
      "metadata": {
        "colab": {
          "base_uri": "https://localhost:8080/"
        },
        "id": "VDfEs8GH2BVG",
        "outputId": "9036fda2-c4e8-44da-b4fc-b3d6923ed16f"
      },
      "execution_count": null,
      "outputs": [
        {
          "output_type": "stream",
          "name": "stdout",
          "text": [
            "5\n"
          ]
        }
      ]
    },
    {
      "cell_type": "code",
      "source": [
        "print(3 in a)"
      ],
      "metadata": {
        "colab": {
          "base_uri": "https://localhost:8080/"
        },
        "id": "wDxF1v0B3L5a",
        "outputId": "88230c72-0e47-45dd-8ac7-86fa9ba2bb12"
      },
      "execution_count": null,
      "outputs": [
        {
          "output_type": "stream",
          "name": "stdout",
          "text": [
            "False\n"
          ]
        }
      ]
    },
    {
      "cell_type": "code",
      "source": [
        "a.add(2)\n",
        "print(a)"
      ],
      "metadata": {
        "colab": {
          "base_uri": "https://localhost:8080/"
        },
        "id": "-s-u3UfD3reN",
        "outputId": "7198c1e6-18fb-4fd9-9189-0bee60c90d05"
      },
      "execution_count": null,
      "outputs": [
        {
          "output_type": "stream",
          "name": "stdout",
          "text": [
            "{'devide', 2, 4, 'add', 'substract', 'mutiple'}\n"
          ]
        }
      ]
    },
    {
      "cell_type": "code",
      "source": [
        "a.update([\"lessthan\",\"graterthan\"])\n",
        "print(a)"
      ],
      "metadata": {
        "colab": {
          "base_uri": "https://localhost:8080/"
        },
        "id": "tuoiNwpf4MO0",
        "outputId": "2e350d1e-664a-40a6-d35d-1a637a75071b"
      },
      "execution_count": null,
      "outputs": [
        {
          "output_type": "stream",
          "name": "stdout",
          "text": [
            "{'devide', 2, 4, 'add', 'lessthan', 'graterthan', 'substract', 'mutiple'}\n"
          ]
        }
      ]
    },
    {
      "cell_type": "code",
      "source": [
        "shop=[\"shas\",\"abcd\",\"zain\"]\n",
        "print(shop)"
      ],
      "metadata": {
        "id": "pmYj6vR34rrw",
        "colab": {
          "base_uri": "https://localhost:8080/"
        },
        "outputId": "38aaf486-6dfb-4585-f61d-3bed34fda733"
      },
      "execution_count": null,
      "outputs": [
        {
          "output_type": "stream",
          "name": "stdout",
          "text": [
            "['shas', 'abcd', 'zain']\n"
          ]
        }
      ]
    },
    {
      "cell_type": "code",
      "source": [
        "print(len(shop))"
      ],
      "metadata": {
        "colab": {
          "base_uri": "https://localhost:8080/"
        },
        "id": "fbb9zbt4Jeq_",
        "outputId": "b5c3bf2c-4c07-4502-ebe7-d66c254e41a1"
      },
      "execution_count": null,
      "outputs": [
        {
          "output_type": "stream",
          "name": "stdout",
          "text": [
            "3\n"
          ]
        }
      ]
    },
    {
      "cell_type": "code",
      "source": [
        "a=2\n",
        "b=3\n",
        "sum=a+b\n",
        "print(sum)"
      ],
      "metadata": {
        "colab": {
          "base_uri": "https://localhost:8080/"
        },
        "id": "R74gjOKEJvc_",
        "outputId": "c1b01e58-7c70-4c6d-a8b7-4548aa05ed5c"
      },
      "execution_count": null,
      "outputs": [
        {
          "output_type": "stream",
          "name": "stdout",
          "text": [
            "5\n"
          ]
        }
      ]
    },
    {
      "cell_type": "code",
      "source": [
        "a=int(input(\"Enter first no.:\"))\n",
        "b=int(input(\"Enter secondno.:\"))\n",
        "add=(a+b)\n",
        "print(\"add is :\",add)"
      ],
      "metadata": {
        "colab": {
          "base_uri": "https://localhost:8080/"
        },
        "id": "r_xgQZ3RNb1z",
        "outputId": "58f2a79d-d642-4b39-a10e-2082ca9c1b59"
      },
      "execution_count": null,
      "outputs": [
        {
          "output_type": "stream",
          "name": "stdout",
          "text": [
            "Enter first no.:2\n",
            "Enter secondno.:2\n",
            "add is : 4\n"
          ]
        }
      ]
    },
    {
      "cell_type": "code",
      "source": [
        "c=int(input(\"Enter first No.:\"))\n",
        "d=int(input(\"Enter second No.:\"))\n",
        "devide=(c/d)\n",
        "print(\"devide is:\",devide)"
      ],
      "metadata": {
        "colab": {
          "base_uri": "https://localhost:8080/"
        },
        "id": "bdzLYmPEQ0e4",
        "outputId": "d01ce138-cc78-4742-91ef-f6ab3922c009"
      },
      "execution_count": null,
      "outputs": [
        {
          "output_type": "stream",
          "name": "stdout",
          "text": [
            "Enter first No.:6\n",
            "Enter second No.:3\n",
            "devide is: 2.0\n"
          ]
        }
      ]
    },
    {
      "cell_type": "code",
      "source": [
        "Names=[\"anu\",\"manu\"]\n",
        "print(Names)"
      ],
      "metadata": {
        "colab": {
          "base_uri": "https://localhost:8080/"
        },
        "id": "awbHaNuBSm1n",
        "outputId": "e864978a-b267-4609-f3a9-7804fd96db11"
      },
      "execution_count": null,
      "outputs": [
        {
          "output_type": "stream",
          "name": "stdout",
          "text": [
            "['anu', 'manu']\n"
          ]
        }
      ]
    },
    {
      "cell_type": "code",
      "source": [
        "print(len(Names))"
      ],
      "metadata": {
        "colab": {
          "base_uri": "https://localhost:8080/"
        },
        "id": "chyXf6N9XBZg",
        "outputId": "bcebff96-eae9-4b7d-a505-89d8e8681b14"
      },
      "execution_count": null,
      "outputs": [
        {
          "output_type": "stream",
          "name": "stdout",
          "text": [
            "2\n"
          ]
        }
      ]
    },
    {
      "cell_type": "code",
      "source": [
        "print(Names[0])"
      ],
      "metadata": {
        "colab": {
          "base_uri": "https://localhost:8080/"
        },
        "id": "DfAcy8wyXH7X",
        "outputId": "89d14d3a-5391-4445-91f4-e5199b23f24f"
      },
      "execution_count": null,
      "outputs": [
        {
          "output_type": "stream",
          "name": "stdout",
          "text": [
            "anu\n"
          ]
        }
      ]
    },
    {
      "cell_type": "code",
      "source": [
        "pets=[\"peater\",\"junnu\"]\n",
        "sum=Names+pets\n",
        "print(sum)"
      ],
      "metadata": {
        "colab": {
          "base_uri": "https://localhost:8080/"
        },
        "id": "Qwj6jKzIXZfg",
        "outputId": "448a7786-036c-4b85-a178-1f8b7aa4d215"
      },
      "execution_count": null,
      "outputs": [
        {
          "output_type": "stream",
          "name": "stdout",
          "text": [
            "['anu', 'manu', 'peater', 'junnu']\n"
          ]
        }
      ]
    },
    {
      "cell_type": "code",
      "source": [
        "Names[0]=\"jahaan\"\n",
        "print(Names)"
      ],
      "metadata": {
        "colab": {
          "base_uri": "https://localhost:8080/"
        },
        "id": "Nch_c22FX18W",
        "outputId": "cb506ee4-e25b-49b8-9ccc-6a94b7fa4ca5"
      },
      "execution_count": null,
      "outputs": [
        {
          "output_type": "stream",
          "name": "stdout",
          "text": [
            "['jahaan', 'manu']\n"
          ]
        }
      ]
    },
    {
      "cell_type": "code",
      "source": [
        "Names.append(\"suhana\")\n",
        "print(Names)"
      ],
      "metadata": {
        "colab": {
          "base_uri": "https://localhost:8080/"
        },
        "id": "UoGAj0CHYG4d",
        "outputId": "6ec7cd01-79f0-488e-89ab-6cbc34eee5c1"
      },
      "execution_count": null,
      "outputs": [
        {
          "output_type": "stream",
          "name": "stdout",
          "text": [
            "['jahaan', 'manu', 'suhana']\n"
          ]
        }
      ]
    },
    {
      "cell_type": "code",
      "source": [
        "Names.insert(4,\"anu\")\n",
        "print(Names)"
      ],
      "metadata": {
        "colab": {
          "base_uri": "https://localhost:8080/"
        },
        "id": "oZ6ByzFeYsXe",
        "outputId": "6f4400fa-6999-4bbc-8937-fddf6a308043"
      },
      "execution_count": null,
      "outputs": [
        {
          "output_type": "stream",
          "name": "stdout",
          "text": [
            "['jahaan', 'manu', 'suhana', 'anu']\n"
          ]
        }
      ]
    },
    {
      "cell_type": "code",
      "source": [
        "Names.extend(pets)\n",
        "print(Names)"
      ],
      "metadata": {
        "colab": {
          "base_uri": "https://localhost:8080/"
        },
        "id": "PNHYSpHzefEk",
        "outputId": "0448855d-08bd-4ebe-f252-04a1f9f2a03a"
      },
      "execution_count": null,
      "outputs": [
        {
          "output_type": "stream",
          "name": "stdout",
          "text": [
            "['jahaan', 'manu', 'suhana', 'anu', 'peater', 'junnu']\n"
          ]
        }
      ]
    },
    {
      "cell_type": "code",
      "source": [
        "Names.remove(\"anu\")\n",
        "print(Names)"
      ],
      "metadata": {
        "colab": {
          "base_uri": "https://localhost:8080/"
        },
        "id": "pi_6DW3Ueyt_",
        "outputId": "a00a27b1-e63a-48c8-91a1-754bfd03e468"
      },
      "execution_count": null,
      "outputs": [
        {
          "output_type": "stream",
          "name": "stdout",
          "text": [
            "['jahaan', 'manu', 'suhana', 'peater', 'junnu']\n"
          ]
        }
      ]
    },
    {
      "cell_type": "code",
      "source": [
        "Names.clear()\n",
        "print(Names)"
      ],
      "metadata": {
        "colab": {
          "base_uri": "https://localhost:8080/"
        },
        "id": "7VGopZF6fF7z",
        "outputId": "b2a3741d-6351-4a6f-f709-2258dacfbc7f"
      },
      "execution_count": null,
      "outputs": [
        {
          "output_type": "stream",
          "name": "stdout",
          "text": [
            "[]\n"
          ]
        }
      ]
    },
    {
      "cell_type": "code",
      "source": [
        "del Names\n",
        "print(Names)"
      ],
      "metadata": {
        "colab": {
          "base_uri": "https://localhost:8080/",
          "height": 164
        },
        "id": "ro1G---ggsqg",
        "outputId": "28b52b2d-a423-43e4-c17a-683ad708b9b4"
      },
      "execution_count": null,
      "outputs": [
        {
          "output_type": "error",
          "ename": "NameError",
          "evalue": "name 'Names' is not defined",
          "traceback": [
            "\u001b[0;31m---------------------------------------------------------------------------\u001b[0m",
            "\u001b[0;31mNameError\u001b[0m                                 Traceback (most recent call last)",
            "\u001b[0;32m<ipython-input-39-c281cf39ca54>\u001b[0m in \u001b[0;36m<cell line: 2>\u001b[0;34m()\u001b[0m\n\u001b[1;32m      1\u001b[0m \u001b[0;32mdel\u001b[0m \u001b[0mNames\u001b[0m\u001b[0;34m\u001b[0m\u001b[0;34m\u001b[0m\u001b[0m\n\u001b[0;32m----> 2\u001b[0;31m \u001b[0mprint\u001b[0m\u001b[0;34m(\u001b[0m\u001b[0mNames\u001b[0m\u001b[0;34m)\u001b[0m\u001b[0;34m\u001b[0m\u001b[0;34m\u001b[0m\u001b[0m\n\u001b[0m",
            "\u001b[0;31mNameError\u001b[0m: name 'Names' is not defined"
          ]
        }
      ]
    },
    {
      "cell_type": "code",
      "source": [
        "perfumes=[]\n",
        "print(perfumes)"
      ],
      "metadata": {
        "colab": {
          "base_uri": "https://localhost:8080/"
        },
        "id": "2nMi1RoMg1bI",
        "outputId": "a4fe2e4e-aa29-43b3-868a-cf04f480b28d"
      },
      "execution_count": null,
      "outputs": [
        {
          "output_type": "stream",
          "name": "stdout",
          "text": [
            "[]\n"
          ]
        }
      ]
    },
    {
      "cell_type": "code",
      "source": [
        "perfumes.insert(0,\"solid\")\n",
        "print(perfumes)"
      ],
      "metadata": {
        "colab": {
          "base_uri": "https://localhost:8080/"
        },
        "id": "-jYAJi96i38G",
        "outputId": "56028ab1-6a22-48a9-e86b-6aca50cb1393"
      },
      "execution_count": null,
      "outputs": [
        {
          "output_type": "stream",
          "name": "stdout",
          "text": [
            "['solid']\n"
          ]
        }
      ]
    },
    {
      "cell_type": "code",
      "source": [
        "perfumes.append(\"fog\")\n",
        "print(perfumes)"
      ],
      "metadata": {
        "colab": {
          "base_uri": "https://localhost:8080/"
        },
        "id": "70eeOoqAjjA3",
        "outputId": "7004dad8-27d5-4073-edf2-179c5e07bc3d"
      },
      "execution_count": null,
      "outputs": [
        {
          "output_type": "stream",
          "name": "stdout",
          "text": [
            "['solid', 'fog']\n"
          ]
        }
      ]
    },
    {
      "cell_type": "code",
      "source": [
        "perfumes[\"solid\",\"fog\"]\n",
        "c[\"blue lady\"]\n",
        "perfumes.extend(c)\n",
        "print(perfumes)"
      ],
      "metadata": {
        "colab": {
          "base_uri": "https://localhost:8080/",
          "height": 200
        },
        "id": "ygazeL2VkFqo",
        "outputId": "4a348319-d55d-40f7-bd2e-1e8e2226239c"
      },
      "execution_count": null,
      "outputs": [
        {
          "output_type": "error",
          "ename": "TypeError",
          "evalue": "list indices must be integers or slices, not tuple",
          "traceback": [
            "\u001b[0;31m---------------------------------------------------------------------------\u001b[0m",
            "\u001b[0;31mTypeError\u001b[0m                                 Traceback (most recent call last)",
            "\u001b[0;32m<ipython-input-46-4889ef74b9b1>\u001b[0m in \u001b[0;36m<cell line: 1>\u001b[0;34m()\u001b[0m\n\u001b[0;32m----> 1\u001b[0;31m \u001b[0mperfumes\u001b[0m\u001b[0;34m[\u001b[0m\u001b[0;34m\"solid\"\u001b[0m\u001b[0;34m,\u001b[0m\u001b[0;34m\"fog\"\u001b[0m\u001b[0;34m]\u001b[0m\u001b[0;34m\u001b[0m\u001b[0;34m\u001b[0m\u001b[0m\n\u001b[0m\u001b[1;32m      2\u001b[0m \u001b[0mc\u001b[0m\u001b[0;34m[\u001b[0m\u001b[0;34m\"blue lady\"\u001b[0m\u001b[0;34m]\u001b[0m\u001b[0;34m\u001b[0m\u001b[0;34m\u001b[0m\u001b[0m\n\u001b[1;32m      3\u001b[0m \u001b[0mperfumes\u001b[0m\u001b[0;34m.\u001b[0m\u001b[0mextend\u001b[0m\u001b[0;34m(\u001b[0m\u001b[0mc\u001b[0m\u001b[0;34m)\u001b[0m\u001b[0;34m\u001b[0m\u001b[0;34m\u001b[0m\u001b[0m\n\u001b[1;32m      4\u001b[0m \u001b[0mprint\u001b[0m\u001b[0;34m(\u001b[0m\u001b[0mperfumes\u001b[0m\u001b[0;34m)\u001b[0m\u001b[0;34m\u001b[0m\u001b[0;34m\u001b[0m\u001b[0m\n",
            "\u001b[0;31mTypeError\u001b[0m: list indices must be integers or slices, not tuple"
          ]
        }
      ]
    },
    {
      "cell_type": "code",
      "source": [
        "a={\"bc\",\"de\",\"fg\",\"hi\",\"jk\"}\n",
        "print(a)"
      ],
      "metadata": {
        "id": "1ZjVwtgBlKqn",
        "colab": {
          "base_uri": "https://localhost:8080/"
        },
        "outputId": "e72df0ba-4ce0-46c2-e202-ccab2b906a55"
      },
      "execution_count": 2,
      "outputs": [
        {
          "output_type": "stream",
          "name": "stdout",
          "text": [
            "{'bc', 'de', 'hi', 'jk', 'fg'}\n"
          ]
        }
      ]
    },
    {
      "cell_type": "code",
      "source": [
        "a.remove(\"fg\")\n",
        "print(a)"
      ],
      "metadata": {
        "colab": {
          "base_uri": "https://localhost:8080/"
        },
        "id": "-uNWoLPAMfNl",
        "outputId": "75feef66-bf17-4e8a-c039-21fead9ac858"
      },
      "execution_count": 3,
      "outputs": [
        {
          "output_type": "stream",
          "name": "stdout",
          "text": [
            "{'bc', 'de', 'hi', 'jk'}\n"
          ]
        }
      ]
    },
    {
      "cell_type": "code",
      "source": [
        "a.discard(\"hi\")\n",
        "print(a)"
      ],
      "metadata": {
        "colab": {
          "base_uri": "https://localhost:8080/"
        },
        "id": "K017cQREOp68",
        "outputId": "752ef2dc-e0dc-4ad8-94e2-2156c89a7c29"
      },
      "execution_count": 4,
      "outputs": [
        {
          "output_type": "stream",
          "name": "stdout",
          "text": [
            "{'bc', 'de', 'jk'}\n"
          ]
        }
      ]
    },
    {
      "cell_type": "code",
      "source": [
        "a.remove(\"mn\")\n",
        "print(a)"
      ],
      "metadata": {
        "colab": {
          "base_uri": "https://localhost:8080/",
          "height": 164
        },
        "id": "N0bkpD18PR_r",
        "outputId": "f91a5672-e8ab-43e1-ea8b-e9e9fc9a3d38"
      },
      "execution_count": 5,
      "outputs": [
        {
          "output_type": "error",
          "ename": "KeyError",
          "evalue": "'mn'",
          "traceback": [
            "\u001b[0;31m---------------------------------------------------------------------------\u001b[0m",
            "\u001b[0;31mKeyError\u001b[0m                                  Traceback (most recent call last)",
            "\u001b[0;32m<ipython-input-5-5508ff27962d>\u001b[0m in \u001b[0;36m<cell line: 1>\u001b[0;34m()\u001b[0m\n\u001b[0;32m----> 1\u001b[0;31m \u001b[0ma\u001b[0m\u001b[0;34m.\u001b[0m\u001b[0mremove\u001b[0m\u001b[0;34m(\u001b[0m\u001b[0;34m\"mn\"\u001b[0m\u001b[0;34m)\u001b[0m\u001b[0;34m\u001b[0m\u001b[0;34m\u001b[0m\u001b[0m\n\u001b[0m\u001b[1;32m      2\u001b[0m \u001b[0mprint\u001b[0m\u001b[0;34m(\u001b[0m\u001b[0ma\u001b[0m\u001b[0;34m)\u001b[0m\u001b[0;34m\u001b[0m\u001b[0;34m\u001b[0m\u001b[0m\n",
            "\u001b[0;31mKeyError\u001b[0m: 'mn'"
          ]
        }
      ]
    },
    {
      "cell_type": "code",
      "source": [
        "a.discard(\"pq\")\n",
        "print(a)"
      ],
      "metadata": {
        "colab": {
          "base_uri": "https://localhost:8080/"
        },
        "id": "dNLfMc50PmIV",
        "outputId": "901c6511-b005-4919-ecf0-7a6e73862e84"
      },
      "execution_count": 6,
      "outputs": [
        {
          "output_type": "stream",
          "name": "stdout",
          "text": [
            "{'bc', 'de', 'jk'}\n"
          ]
        }
      ]
    },
    {
      "cell_type": "code",
      "source": [
        "z={1,2,3,4,5}\n",
        "y={9,8,7}\n",
        "print(z,y)"
      ],
      "metadata": {
        "colab": {
          "base_uri": "https://localhost:8080/"
        },
        "id": "pFzbJlqePukf",
        "outputId": "4bf14f92-84c6-45cc-dae4-b47997dfb9a7"
      },
      "execution_count": 7,
      "outputs": [
        {
          "output_type": "stream",
          "name": "stdout",
          "text": [
            "{1, 2, 3, 4, 5} {8, 9, 7}\n"
          ]
        }
      ]
    },
    {
      "cell_type": "code",
      "source": [
        "x=z.union(y)\n",
        "print(x)"
      ],
      "metadata": {
        "colab": {
          "base_uri": "https://localhost:8080/"
        },
        "id": "j07fJ1TiQVdP",
        "outputId": "5062e68a-16e7-4812-a16d-a86f5b876a54"
      },
      "execution_count": 8,
      "outputs": [
        {
          "output_type": "stream",
          "name": "stdout",
          "text": [
            "{1, 2, 3, 4, 5, 7, 8, 9}\n"
          ]
        }
      ]
    },
    {
      "cell_type": "code",
      "source": [
        "u={6,7,8,9}\n",
        "v={5,4,3}\n",
        "q=u-v\n",
        "print(q)"
      ],
      "metadata": {
        "colab": {
          "base_uri": "https://localhost:8080/"
        },
        "id": "ys9xG-JOQudR",
        "outputId": "72e3a6ef-de19-408d-e35f-2d9799e2630f"
      },
      "execution_count": 9,
      "outputs": [
        {
          "output_type": "stream",
          "name": "stdout",
          "text": [
            "{8, 9, 6, 7}\n"
          ]
        }
      ]
    },
    {
      "cell_type": "code",
      "source": [
        "q=v-u\n",
        "print(q)"
      ],
      "metadata": {
        "colab": {
          "base_uri": "https://localhost:8080/"
        },
        "id": "xEufb_DvSG3s",
        "outputId": "6687dbc6-ce78-47ab-b32a-aa53732c9a20"
      },
      "execution_count": 10,
      "outputs": [
        {
          "output_type": "stream",
          "name": "stdout",
          "text": [
            "{3, 4, 5}\n"
          ]
        }
      ]
    },
    {
      "cell_type": "code",
      "source": [
        "d=u.difference(v)\n",
        "print(d)"
      ],
      "metadata": {
        "colab": {
          "base_uri": "https://localhost:8080/"
        },
        "id": "7_lzy0tkSR6Q",
        "outputId": "6b0d28f0-d566-4872-a8e0-2bb6113678d5"
      },
      "execution_count": 11,
      "outputs": [
        {
          "output_type": "stream",
          "name": "stdout",
          "text": [
            "{8, 9, 6, 7}\n"
          ]
        }
      ]
    },
    {
      "cell_type": "code",
      "source": [
        "a={6,7,8,9}\n",
        "b={6,9,5,4,3}\n",
        "c=a&b\n",
        "print(c)"
      ],
      "metadata": {
        "colab": {
          "base_uri": "https://localhost:8080/"
        },
        "id": "oG89pJF0TFia",
        "outputId": "5082a787-cc4a-4e1f-a2ea-05c93851dece"
      },
      "execution_count": 12,
      "outputs": [
        {
          "output_type": "stream",
          "name": "stdout",
          "text": [
            "{9, 6}\n"
          ]
        }
      ]
    },
    {
      "cell_type": "code",
      "source": [
        "a={1,2,3,4,5}\n",
        "b={6,3,7,4,8,9,5}\n",
        "c=a.intersection(b)\n",
        "print(c)"
      ],
      "metadata": {
        "colab": {
          "base_uri": "https://localhost:8080/"
        },
        "id": "MEo7aQIxUNmA",
        "outputId": "40d6ada3-df29-4f30-9170-b79a5925a5db"
      },
      "execution_count": 13,
      "outputs": [
        {
          "output_type": "stream",
          "name": "stdout",
          "text": [
            "{3, 4, 5}\n"
          ]
        }
      ]
    },
    {
      "cell_type": "code",
      "source": [
        "a.clear()\n",
        "print(a)"
      ],
      "metadata": {
        "colab": {
          "base_uri": "https://localhost:8080/"
        },
        "id": "HHuyRMLbU5hS",
        "outputId": "e4048b9d-bb34-49bb-96d1-9b4ce0bbfe68"
      },
      "execution_count": 14,
      "outputs": [
        {
          "output_type": "stream",
          "name": "stdout",
          "text": [
            "set()\n"
          ]
        }
      ]
    },
    {
      "cell_type": "code",
      "source": [
        "del a\n",
        "print(a)"
      ],
      "metadata": {
        "colab": {
          "base_uri": "https://localhost:8080/",
          "height": 164
        },
        "id": "chriiKrhVEjZ",
        "outputId": "d24bf31a-dc95-4d63-d4a8-25ac40e57304"
      },
      "execution_count": 16,
      "outputs": [
        {
          "output_type": "error",
          "ename": "NameError",
          "evalue": "name 'a' is not defined",
          "traceback": [
            "\u001b[0;31m---------------------------------------------------------------------------\u001b[0m",
            "\u001b[0;31mNameError\u001b[0m                                 Traceback (most recent call last)",
            "\u001b[0;32m<ipython-input-16-c342333e421e>\u001b[0m in \u001b[0;36m<cell line: 2>\u001b[0;34m()\u001b[0m\n\u001b[1;32m      1\u001b[0m \u001b[0;32mdel\u001b[0m \u001b[0ma\u001b[0m\u001b[0;34m\u001b[0m\u001b[0;34m\u001b[0m\u001b[0m\n\u001b[0;32m----> 2\u001b[0;31m \u001b[0mprint\u001b[0m\u001b[0;34m(\u001b[0m\u001b[0ma\u001b[0m\u001b[0;34m)\u001b[0m\u001b[0;34m\u001b[0m\u001b[0;34m\u001b[0m\u001b[0m\n\u001b[0m",
            "\u001b[0;31mNameError\u001b[0m: name 'a' is not defined"
          ]
        }
      ]
    },
    {
      "cell_type": "code",
      "source": [
        "flowers={\"rose\",\"lotes\",\"lilly\"}\n",
        "fruits={\"mango\",\"grape\",\"banana\",\"apple\"}\n",
        "flowers.remove(\"lotes\")\n",
        "print(flowers)"
      ],
      "metadata": {
        "colab": {
          "base_uri": "https://localhost:8080/"
        },
        "id": "9IadPdIEVd2u",
        "outputId": "91f3c704-efe3-4ccb-f5a1-d750c373f74f"
      },
      "execution_count": 17,
      "outputs": [
        {
          "output_type": "stream",
          "name": "stdout",
          "text": [
            "{'rose', 'lilly'}\n"
          ]
        }
      ]
    },
    {
      "cell_type": "code",
      "source": [
        "flowers.discard(\"lilly\")\n",
        "print(flowers)"
      ],
      "metadata": {
        "colab": {
          "base_uri": "https://localhost:8080/"
        },
        "id": "RPCB9ClqaGn1",
        "outputId": "a5084a34-1894-4df8-d5df-488bd30699d9"
      },
      "execution_count": 18,
      "outputs": [
        {
          "output_type": "stream",
          "name": "stdout",
          "text": [
            "{'rose'}\n"
          ]
        }
      ]
    },
    {
      "cell_type": "code",
      "source": [
        "join=flowers.union(fruits)\n",
        "print(join)"
      ],
      "metadata": {
        "colab": {
          "base_uri": "https://localhost:8080/"
        },
        "id": "e0KsDnMvaW5I",
        "outputId": "3b45b8ce-bf4f-4841-cdc9-ae6ea5cb92ca"
      },
      "execution_count": 19,
      "outputs": [
        {
          "output_type": "stream",
          "name": "stdout",
          "text": [
            "{'banana', 'mango', 'rose', 'apple', 'grape'}\n"
          ]
        }
      ]
    },
    {
      "cell_type": "code",
      "source": [
        "join=flowers-fruits\n",
        "print(join)"
      ],
      "metadata": {
        "colab": {
          "base_uri": "https://localhost:8080/"
        },
        "id": "WE07aM2aaoAg",
        "outputId": "89c93275-b249-4ef9-d87e-aaa2a22f9c01"
      },
      "execution_count": 20,
      "outputs": [
        {
          "output_type": "stream",
          "name": "stdout",
          "text": [
            "{'rose'}\n"
          ]
        }
      ]
    },
    {
      "cell_type": "code",
      "source": [
        "join=fruits-flowers\n",
        "print(join)"
      ],
      "metadata": {
        "colab": {
          "base_uri": "https://localhost:8080/"
        },
        "id": "IYzEcQ_qa2pQ",
        "outputId": "2c412df7-0c73-40e6-b785-d90129c906c7"
      },
      "execution_count": 22,
      "outputs": [
        {
          "output_type": "stream",
          "name": "stdout",
          "text": [
            "{'apple', 'grape', 'banana', 'mango'}\n"
          ]
        }
      ]
    },
    {
      "cell_type": "code",
      "source": [
        "dictionary={\"name\":\"manu\",\"email\":\"manu12@gmail.com\",\"phone\":1234567890}\n",
        "print(dictionary)"
      ],
      "metadata": {
        "colab": {
          "base_uri": "https://localhost:8080/"
        },
        "id": "ZYBLUgNZa9B6",
        "outputId": "a648e3a2-0ffc-43a4-d657-20a3e78e4a1d"
      },
      "execution_count": 24,
      "outputs": [
        {
          "output_type": "stream",
          "name": "stdout",
          "text": [
            "{'name': 'manu', 'email': 'manu12@gmail.com', 'phone': 1234567890}\n"
          ]
        }
      ]
    },
    {
      "cell_type": "code",
      "source": [
        "a=dictionary['email']\n",
        "print(a)"
      ],
      "metadata": {
        "colab": {
          "base_uri": "https://localhost:8080/"
        },
        "id": "PIg29jE3bpkH",
        "outputId": "ecfb695b-3e5c-4e3d-884f-f9102f57f001"
      },
      "execution_count": 25,
      "outputs": [
        {
          "output_type": "stream",
          "name": "stdout",
          "text": [
            "manu12@gmail.com\n"
          ]
        }
      ]
    },
    {
      "cell_type": "code",
      "source": [
        "a=dictionary.get(\"name\")\n",
        "print(a)"
      ],
      "metadata": {
        "colab": {
          "base_uri": "https://localhost:8080/"
        },
        "id": "_VikFLWYcDQ9",
        "outputId": "9bf9edd0-a24b-4c42-912f-cffcf206d9c3"
      },
      "execution_count": 26,
      "outputs": [
        {
          "output_type": "stream",
          "name": "stdout",
          "text": [
            "manu\n"
          ]
        }
      ]
    },
    {
      "cell_type": "code",
      "source": [
        "dictionary[\"name\"]=\"anu\"\n",
        "print(dictionary)"
      ],
      "metadata": {
        "colab": {
          "base_uri": "https://localhost:8080/"
        },
        "id": "qNzOQytKcUEe",
        "outputId": "f79995d5-8360-4b99-9ff8-8df494db6c55"
      },
      "execution_count": 27,
      "outputs": [
        {
          "output_type": "stream",
          "name": "stdout",
          "text": [
            "{'name': 'anu', 'email': 'manu12@gmail.com', 'phone': 1234567890}\n"
          ]
        }
      ]
    },
    {
      "cell_type": "code",
      "source": [
        "dictionary[\"age\"]=26\n",
        "print(dictionary)"
      ],
      "metadata": {
        "colab": {
          "base_uri": "https://localhost:8080/"
        },
        "id": "8wK8HhzqdZiD",
        "outputId": "e5fafc28-608b-4a44-a76c-f13f2d101033"
      },
      "execution_count": 28,
      "outputs": [
        {
          "output_type": "stream",
          "name": "stdout",
          "text": [
            "{'name': 'anu', 'email': 'manu12@gmail.com', 'phone': 1234567890, 'age': 26}\n"
          ]
        }
      ]
    },
    {
      "cell_type": "code",
      "source": [
        "dict_2=dictionary.copy()\n",
        "print(dict_2)"
      ],
      "metadata": {
        "colab": {
          "base_uri": "https://localhost:8080/"
        },
        "id": "L53d07HkdxCi",
        "outputId": "a7c466d2-dad2-4500-f853-a60418d41d2d"
      },
      "execution_count": 29,
      "outputs": [
        {
          "output_type": "stream",
          "name": "stdout",
          "text": [
            "{'name': 'anu', 'email': 'manu12@gmail.com', 'phone': 1234567890, 'age': 26}\n"
          ]
        }
      ]
    },
    {
      "cell_type": "code",
      "source": [
        "dictionary.pop(\"email\")\n",
        "print(dictionary)"
      ],
      "metadata": {
        "colab": {
          "base_uri": "https://localhost:8080/"
        },
        "id": "cf9jmTZoedLS",
        "outputId": "d5326d17-413c-4748-85d2-cb8f91f9cd4c"
      },
      "execution_count": 30,
      "outputs": [
        {
          "output_type": "stream",
          "name": "stdout",
          "text": [
            "{'name': 'anu', 'phone': 1234567890, 'age': 26}\n"
          ]
        }
      ]
    },
    {
      "cell_type": "code",
      "source": [
        "del dictionary[\"phone\"]\n",
        "print(dictionary)"
      ],
      "metadata": {
        "colab": {
          "base_uri": "https://localhost:8080/"
        },
        "id": "ZsoA5ZG2e1g5",
        "outputId": "b256da66-74fa-4568-e6e3-a2efbcb4ea53"
      },
      "execution_count": 32,
      "outputs": [
        {
          "output_type": "stream",
          "name": "stdout",
          "text": [
            "{'name': 'anu', 'age': 26}\n"
          ]
        }
      ]
    },
    {
      "cell_type": "code",
      "source": [
        "string=(\"lotes\",\"lilly\",\"rose\")\n",
        "print(string)"
      ],
      "metadata": {
        "colab": {
          "base_uri": "https://localhost:8080/"
        },
        "id": "YfYj3DNifyf1",
        "outputId": "95f79f01-63bb-485d-a045-746e71ad5442"
      },
      "execution_count": 33,
      "outputs": [
        {
          "output_type": "stream",
          "name": "stdout",
          "text": [
            "('lotes', 'lilly', 'rose')\n"
          ]
        }
      ]
    },
    {
      "cell_type": "code",
      "source": [
        "print(string[-1])"
      ],
      "metadata": {
        "colab": {
          "base_uri": "https://localhost:8080/"
        },
        "id": "B35HKUQFhZ_2",
        "outputId": "56657f3f-d1f1-444c-a207-b712d8b08f7a"
      },
      "execution_count": 35,
      "outputs": [
        {
          "output_type": "stream",
          "name": "stdout",
          "text": [
            "rose\n"
          ]
        }
      ]
    },
    {
      "cell_type": "code",
      "source": [
        "print(string[1:5])"
      ],
      "metadata": {
        "colab": {
          "base_uri": "https://localhost:8080/"
        },
        "id": "TpPRyOSBhqVS",
        "outputId": "745d3ccd-dc49-40ef-d3b4-6450103ced67"
      },
      "execution_count": 40,
      "outputs": [
        {
          "output_type": "stream",
          "name": "stdout",
          "text": [
            "('lilly', 'rose')\n"
          ]
        }
      ]
    },
    {
      "cell_type": "code",
      "source": [
        "string='HELLO'\n",
        "print(string.lower())"
      ],
      "metadata": {
        "colab": {
          "base_uri": "https://localhost:8080/"
        },
        "id": "Rgb31V7dieC5",
        "outputId": "77f27116-2dbd-42b0-c16a-60f6476bf4fc"
      },
      "execution_count": 41,
      "outputs": [
        {
          "output_type": "stream",
          "name": "stdout",
          "text": [
            "hello\n"
          ]
        }
      ]
    },
    {
      "cell_type": "code",
      "source": [
        "string=('lollan')\n",
        "print(string.upper())"
      ],
      "metadata": {
        "colab": {
          "base_uri": "https://localhost:8080/"
        },
        "id": "DiaryORKsRRj",
        "outputId": "991248fb-0774-46a8-88b6-1efb15c7db70"
      },
      "execution_count": 42,
      "outputs": [
        {
          "output_type": "stream",
          "name": "stdout",
          "text": [
            "LOLLAN\n"
          ]
        }
      ]
    },
    {
      "cell_type": "code",
      "source": [
        "string='i lOVE MY iNDIA'\n",
        "print(string.swapcase())"
      ],
      "metadata": {
        "colab": {
          "base_uri": "https://localhost:8080/"
        },
        "id": "tTTTY1gqscAx",
        "outputId": "9b908d0e-716a-46a1-837c-b9ef7a2a514f"
      },
      "execution_count": 44,
      "outputs": [
        {
          "output_type": "stream",
          "name": "stdout",
          "text": [
            "I Love my India\n"
          ]
        }
      ]
    },
    {
      "cell_type": "code",
      "source": [
        "string='hello world'\n",
        "print(string.replace('h','H'))"
      ],
      "metadata": {
        "colab": {
          "base_uri": "https://localhost:8080/"
        },
        "id": "k2UVxbAPs0GB",
        "outputId": "01af8960-7cc2-476a-ac27-4ef40a0dbe7d"
      },
      "execution_count": 46,
      "outputs": [
        {
          "output_type": "stream",
          "name": "stdout",
          "text": [
            "Hello world\n"
          ]
        }
      ]
    },
    {
      "cell_type": "code",
      "source": [
        "string='i am in'\n",
        "result=string.startswith('i')\n",
        "print(result)"
      ],
      "metadata": {
        "colab": {
          "base_uri": "https://localhost:8080/"
        },
        "id": "TmmKSgLrtext",
        "outputId": "061706e7-0be9-4216-daf1-13471d2171e0"
      },
      "execution_count": 48,
      "outputs": [
        {
          "output_type": "stream",
          "name": "stdout",
          "text": [
            "True\n"
          ]
        }
      ]
    },
    {
      "cell_type": "code",
      "source": [
        "sting='i am in'\n",
        "result=string.endswith('IN')\n",
        "print(result)"
      ],
      "metadata": {
        "colab": {
          "base_uri": "https://localhost:8080/"
        },
        "id": "xwthYLyZuCEf",
        "outputId": "61f86890-3e99-4ac9-b9c6-426562892efc"
      },
      "execution_count": 49,
      "outputs": [
        {
          "output_type": "stream",
          "name": "stdout",
          "text": [
            "False\n"
          ]
        }
      ]
    },
    {
      "cell_type": "code",
      "source": [
        "a=5\n",
        "b=2\n",
        "if a<b:\n",
        "  print(\"a is grater than b\")\n",
        "else:\n",
        "  print(\"error\")"
      ],
      "metadata": {
        "colab": {
          "base_uri": "https://localhost:8080/"
        },
        "id": "l4HBkf6NuTLL",
        "outputId": "dbebf4d0-1a2c-4956-9ed3-5a1dbb8eda2d"
      },
      "execution_count": 57,
      "outputs": [
        {
          "output_type": "stream",
          "name": "stdout",
          "text": [
            "error\n"
          ]
        }
      ]
    },
    {
      "cell_type": "code",
      "source": [
        "a=int(input(\"Enter a number :\"))\n",
        "if a>0:\n",
        "  print(\"grater than 0\")\n",
        "elif a==0:\n",
        "  print(\"zero\")\n",
        "else:\n",
        "  print(\"less than 0\")"
      ],
      "metadata": {
        "colab": {
          "base_uri": "https://localhost:8080/"
        },
        "id": "-XMjMAkf08gO",
        "outputId": "0c47b655-c7b0-48cb-f62e-9a2be6cc5d16"
      },
      "execution_count": 64,
      "outputs": [
        {
          "output_type": "stream",
          "name": "stdout",
          "text": [
            "Enter a number :3\n",
            "grater than 0\n"
          ]
        }
      ]
    },
    {
      "cell_type": "code",
      "source": [
        "a=int(input(\"Enter your age :\"))\n",
        "if a>=25:\n",
        "  print(\"you are eligible to participate the contest an election\")\n",
        "elif a>=18:\n",
        "  print(\"you are eligible to voting\")\n",
        "else:\n",
        "  print(\"you are not eligible\")"
      ],
      "metadata": {
        "colab": {
          "base_uri": "https://localhost:8080/"
        },
        "id": "57t_h-OH45DB",
        "outputId": "60949c87-7e03-45a9-fc1c-dc9f6e68e28e"
      },
      "execution_count": 69,
      "outputs": [
        {
          "output_type": "stream",
          "name": "stdout",
          "text": [
            "Enter your age :25\n",
            "you are eligible to participate the contest an election\n"
          ]
        }
      ]
    },
    {
      "cell_type": "code",
      "source": [],
      "metadata": {
        "id": "yvRtUTkD-rLG"
      },
      "execution_count": null,
      "outputs": []
    }
  ]
}
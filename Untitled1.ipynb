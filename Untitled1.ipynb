{
  "nbformat": 4,
  "nbformat_minor": 0,
  "metadata": {
    "colab": {
      "provenance": []
    },
    "kernelspec": {
      "name": "python3",
      "display_name": "Python 3"
    },
    "language_info": {
      "name": "python"
    }
  },
  "cells": [
    {
      "cell_type": "code",
      "execution_count": null,
      "metadata": {
        "colab": {
          "base_uri": "https://localhost:8080/"
        },
        "id": "Q0KLVsD6R5Ze",
        "outputId": "e474b2e2-6150-409b-e2a3-1fd8f570a451"
      },
      "outputs": [
        {
          "output_type": "stream",
          "name": "stdout",
          "text": [
            "[500, 400, 300, 200, 100]\n"
          ]
        }
      ],
      "source": [
        "a=[100,200,300,400,500]\n",
        "a.reverse()\n",
        "print(a)"
      ]
    },
    {
      "cell_type": "code",
      "source": [
        "list_1=[100,200,300,400,500]\n",
        "list_1=list_1[::-1]\n",
        "print(list_1)"
      ],
      "metadata": {
        "colab": {
          "base_uri": "https://localhost:8080/"
        },
        "id": "vNdSUOe9TMt5",
        "outputId": "ffe2c6b0-0c7b-4501-f052-800ab52d3ef9"
      },
      "execution_count": null,
      "outputs": [
        {
          "output_type": "stream",
          "name": "stdout",
          "text": [
            "[500, 400, 300, 200, 100]\n"
          ]
        }
      ]
    },
    {
      "cell_type": "code",
      "source": [
        "num=[1,2,3,4,5,6,7]\n",
        "res=[]\n",
        "for i in num:\n",
        "  res.append(i*i)\n",
        "print(res)"
      ],
      "metadata": {
        "colab": {
          "base_uri": "https://localhost:8080/"
        },
        "id": "2GRy7fQIU65E",
        "outputId": "1a317deb-c13b-448d-8f2c-43aa3d773b8b"
      },
      "execution_count": null,
      "outputs": [
        {
          "output_type": "stream",
          "name": "stdout",
          "text": [
            "[1, 4, 9, 16, 25, 36, 49]\n"
          ]
        }
      ]
    },
    {
      "cell_type": "code",
      "source": [
        "num=[1,2,3,4,5,6,7]\n",
        "res=[i*i for i in num]\n",
        "print(res)"
      ],
      "metadata": {
        "colab": {
          "base_uri": "https://localhost:8080/"
        },
        "id": "fwtvKMK7YqsY",
        "outputId": "e7959ab0-9147-4ce4-82ac-43c3532bb80a"
      },
      "execution_count": null,
      "outputs": [
        {
          "output_type": "stream",
          "name": "stdout",
          "text": [
            "[1, 4, 9, 16, 25, 36, 49]\n"
          ]
        }
      ]
    },
    {
      "cell_type": "code",
      "source": [
        "list1=[\"Hello\",\"Take\"]\n",
        "list2=[\" Dear\",\" Sir\"]\n",
        "res=[a + b for a in list1 for b in list2]\n",
        "print(res)"
      ],
      "metadata": {
        "colab": {
          "base_uri": "https://localhost:8080/"
        },
        "id": "ec-UtCy0aeYD",
        "outputId": "99ac7a14-ee6e-463a-99e7-98fca75e7e21"
      },
      "execution_count": null,
      "outputs": [
        {
          "output_type": "stream",
          "name": "stdout",
          "text": [
            "['Hello Dear', 'Hello Sir', 'Take Dear', 'Take Sir']\n"
          ]
        }
      ]
    },
    {
      "cell_type": "code",
      "source": [
        "list_1=[\"Good\",\"morning\"]\n",
        "list_2=[\" hello\",\" world\"]\n",
        "res=[x+y for x in list_1 for y in list_2]\n",
        "print(res)"
      ],
      "metadata": {
        "colab": {
          "base_uri": "https://localhost:8080/"
        },
        "id": "3sezyZvRcMQk",
        "outputId": "cb084025-3e8b-4a7d-d3a8-6643eb9b6d3f"
      },
      "execution_count": null,
      "outputs": [
        {
          "output_type": "stream",
          "name": "stdout",
          "text": [
            "['Good hello', 'Good world', 'morning hello', 'morning world']\n"
          ]
        }
      ]
    },
    {
      "cell_type": "code",
      "source": [
        "list1=[\"hai\",\"hello\",\"\",\"\",\"apple\"]\n",
        "res=list(filter(None,list1))\n",
        "print(res)"
      ],
      "metadata": {
        "colab": {
          "base_uri": "https://localhost:8080/"
        },
        "id": "mA1nYtIBguMW",
        "outputId": "f289a0f5-c6a7-47bd-9992-95357ce0c06f"
      },
      "execution_count": null,
      "outputs": [
        {
          "output_type": "stream",
          "name": "stdout",
          "text": [
            "['hai', 'hello', 'apple']\n"
          ]
        }
      ]
    },
    {
      "cell_type": "code",
      "source": [
        "keys=[\"Ten\",\"Twenty\",\"Thirty\"]\n",
        "value=[10,20,30]\n",
        "res=dict(zip(keys,value))\n",
        "print(res)"
      ],
      "metadata": {
        "colab": {
          "base_uri": "https://localhost:8080/"
        },
        "id": "lVagG_BhkCU_",
        "outputId": "33439a1c-ab0b-43fb-a709-4bd34a357af1"
      },
      "execution_count": null,
      "outputs": [
        {
          "output_type": "stream",
          "name": "stdout",
          "text": [
            "{'Ten': 10, 'Twenty': 20, 'Thirty': 30}\n"
          ]
        }
      ]
    },
    {
      "cell_type": "code",
      "source": [
        "sub={\"physics\": 85,\"maths\":65,\"chemestry\":75}\n",
        "print(min(sub,key=sub.get))"
      ],
      "metadata": {
        "colab": {
          "base_uri": "https://localhost:8080/"
        },
        "id": "ptmD0S_ToweE",
        "outputId": "0aecb3fc-804f-40d8-f625-dbcf74692e1d"
      },
      "execution_count": null,
      "outputs": [
        {
          "output_type": "stream",
          "name": "stdout",
          "text": [
            "maths\n"
          ]
        }
      ]
    },
    {
      "cell_type": "code",
      "source": [
        "a=1\n",
        "b=4\n",
        "print(a+b)"
      ],
      "metadata": {
        "colab": {
          "base_uri": "https://localhost:8080/"
        },
        "id": "wpZ3penBsTcx",
        "outputId": "f4b3cd27-864b-460c-ab8e-8086042ed885"
      },
      "execution_count": null,
      "outputs": [
        {
          "output_type": "stream",
          "name": "stdout",
          "text": [
            "5\n"
          ]
        }
      ]
    },
    {
      "cell_type": "code",
      "source": [
        "a=2\n",
        "b=4\n",
        "print(a**b)"
      ],
      "metadata": {
        "colab": {
          "base_uri": "https://localhost:8080/"
        },
        "id": "LgWpjbFP0Tx5",
        "outputId": "5b280e76-e6e2-4480-fafc-6507dac80707"
      },
      "execution_count": null,
      "outputs": [
        {
          "output_type": "stream",
          "name": "stdout",
          "text": [
            "16\n"
          ]
        }
      ]
    },
    {
      "cell_type": "code",
      "source": [
        "a=5\n",
        "a+=1\n",
        "print(a)"
      ],
      "metadata": {
        "colab": {
          "base_uri": "https://localhost:8080/"
        },
        "id": "H06KIDP81AIA",
        "outputId": "bbbc2d44-82d0-4a60-cfa6-497263953120"
      },
      "execution_count": null,
      "outputs": [
        {
          "output_type": "stream",
          "name": "stdout",
          "text": [
            "6\n"
          ]
        }
      ]
    },
    {
      "cell_type": "code",
      "source": [
        "a=3\n",
        "b=3\n",
        "print(a!=b)"
      ],
      "metadata": {
        "colab": {
          "base_uri": "https://localhost:8080/"
        },
        "id": "gvt1BZPz130T",
        "outputId": "b7214a3a-81e9-4971-8538-29be8ab509b9"
      },
      "execution_count": null,
      "outputs": [
        {
          "output_type": "stream",
          "name": "stdout",
          "text": [
            "False\n"
          ]
        }
      ]
    },
    {
      "cell_type": "code",
      "source": [
        "num1,num2=0,1\n",
        "a=int(input(\"enter number:\"))\n",
        "for i in range(a):\n",
        "  print(num1,end=\" \")\n",
        "  res=num1+num2\n",
        "  num1=num2\n",
        "  num2=res"
      ],
      "metadata": {
        "colab": {
          "base_uri": "https://localhost:8080/"
        },
        "id": "5rUgeem03JXv",
        "outputId": "5ddef844-0ed5-4d41-81af-959833e501cd"
      },
      "execution_count": null,
      "outputs": [
        {
          "output_type": "stream",
          "name": "stdout",
          "text": [
            "enter number:7\n",
            "0 1 1 2 3 5 8 "
          ]
        }
      ]
    },
    {
      "cell_type": "code",
      "source": [
        "a=int(input(\"Enter number:\"))\n",
        "fact=1\n",
        "if a<0:\n",
        "  print(\"No factorial\")\n",
        "elif a==0:\n",
        "  print(\"factorial is 1\")\n",
        "else:\n",
        "  for i in range(1,a+1):\n",
        "    fact=fact*i\n",
        "  print(\"Factorial of given number is :\",fact)"
      ],
      "metadata": {
        "colab": {
          "base_uri": "https://localhost:8080/"
        },
        "id": "SvteO3dL8jtb",
        "outputId": "bc3e8683-76c8-463a-8764-d229135ce46e"
      },
      "execution_count": null,
      "outputs": [
        {
          "output_type": "stream",
          "name": "stdout",
          "text": [
            "Enter number:2\n",
            "Factorial of given number is : 2\n"
          ]
        }
      ]
    },
    {
      "cell_type": "code",
      "source": [
        "a=int(input(\"Enter a number:\"))\n",
        "sum=0\n",
        "for i in range(a+1):\n",
        "  if a>0:\n",
        "    sum=sum+i\n",
        "print (sum)"
      ],
      "metadata": {
        "id": "s0sNFdg-E9DT",
        "colab": {
          "base_uri": "https://localhost:8080/"
        },
        "outputId": "d47406bc-7989-43b4-a9de-af24039c2ebd"
      },
      "execution_count": null,
      "outputs": [
        {
          "output_type": "stream",
          "name": "stdout",
          "text": [
            "Enter a number:2\n",
            "3\n"
          ]
        }
      ]
    },
    {
      "cell_type": "code",
      "source": [
        "n=int(input(\"Enter a natural number:\"))\n",
        "if n<0:\n",
        "  print(\"please enter a positive number\")\n",
        "else:\n",
        "  sum=n*(n+1)/2\n",
        "  print(sum)"
      ],
      "metadata": {
        "id": "bhnLG_nxYo5h",
        "colab": {
          "base_uri": "https://localhost:8080/"
        },
        "outputId": "5ecb2ad2-63d6-4f37-ec69-3a2a872d16cc"
      },
      "execution_count": null,
      "outputs": [
        {
          "output_type": "stream",
          "name": "stdout",
          "text": [
            "Enter a natural number:7\n",
            "28.0\n"
          ]
        }
      ]
    },
    {
      "cell_type": "code",
      "source": [
        "s=[1,2,3,4,5,6,7,8,9,10]\n",
        "sum=0\n",
        "for i in s:\n",
        "  if i%2==0:\n",
        "    sum+=i\n",
        "print(sum)"
      ],
      "metadata": {
        "colab": {
          "base_uri": "https://localhost:8080/"
        },
        "id": "TrqYC97xg7RW",
        "outputId": "4dc3c9bc-c5ce-4ab4-99fa-7bb8ae91e96c"
      },
      "execution_count": null,
      "outputs": [
        {
          "output_type": "stream",
          "name": "stdout",
          "text": [
            "30\n"
          ]
        }
      ]
    },
    {
      "cell_type": "code",
      "source": [
        "a=int(input(\"enter a number:\"))\n",
        "n=int(input(\"enter a limit:\"))\n",
        "for i in range(1,n+1):\n",
        "  print(a,\"*\",i,\"=\",a*i)"
      ],
      "metadata": {
        "colab": {
          "base_uri": "https://localhost:8080/"
        },
        "id": "ifFaoeY7i5rQ",
        "outputId": "b760e4fa-1e0c-48ca-fcc0-36949423d2a6"
      },
      "execution_count": null,
      "outputs": [
        {
          "output_type": "stream",
          "name": "stdout",
          "text": [
            "enter a number:2\n",
            "enter a limit:10\n",
            "2 * 1 = 2\n",
            "2 * 2 = 4\n",
            "2 * 3 = 6\n",
            "2 * 4 = 8\n",
            "2 * 5 = 10\n",
            "2 * 6 = 12\n",
            "2 * 7 = 14\n",
            "2 * 8 = 16\n",
            "2 * 9 = 18\n",
            "2 * 10 = 20\n"
          ]
        }
      ]
    },
    {
      "cell_type": "code",
      "source": [
        "a=int(input(\"enter your limit:\"))\n",
        "n=1\n",
        "while n<a+1:\n",
        "  print(n)\n",
        "  n+=1"
      ],
      "metadata": {
        "colab": {
          "base_uri": "https://localhost:8080/"
        },
        "id": "b74wo3fto1pP",
        "outputId": "0eefee1e-88cd-44b9-f4a6-448ee98b0073"
      },
      "execution_count": null,
      "outputs": [
        {
          "output_type": "stream",
          "name": "stdout",
          "text": [
            "enter your limit:3\n",
            "1\n",
            "2\n",
            "3\n"
          ]
        }
      ]
    },
    {
      "cell_type": "code",
      "source": [
        "a=int(input(\"Enter your limit:\"))\n",
        "n=1\n",
        "while n<a+1:\n",
        "  print(\"hello\")\n",
        "  n+=1"
      ],
      "metadata": {
        "colab": {
          "base_uri": "https://localhost:8080/"
        },
        "id": "6d6QCDZEsKlI",
        "outputId": "2640bc69-3263-4331-ed71-218c59dbe765"
      },
      "execution_count": null,
      "outputs": [
        {
          "output_type": "stream",
          "name": "stdout",
          "text": [
            "Enter your limit:5\n",
            "hello\n",
            "hello\n",
            "hello\n",
            "hello\n",
            "hello\n"
          ]
        }
      ]
    },
    {
      "cell_type": "code",
      "source": [
        "a=input(\"Enter a number:\")\n",
        "print(len(a))"
      ],
      "metadata": {
        "id": "aCm2l03ev62p",
        "colab": {
          "base_uri": "https://localhost:8080/"
        },
        "outputId": "ee39ec96-d3ba-41fa-de06-c0a56a0708cf"
      },
      "execution_count": null,
      "outputs": [
        {
          "output_type": "stream",
          "name": "stdout",
          "text": [
            "Enter a number:34\n",
            "2\n"
          ]
        }
      ]
    },
    {
      "cell_type": "code",
      "source": [
        "n=int(input(\"Enter a number:\"))\n",
        "count=0\n",
        "while n>0:\n",
        "  count+=1\n",
        "  n//=10\n",
        "print(count)"
      ],
      "metadata": {
        "colab": {
          "base_uri": "https://localhost:8080/"
        },
        "id": "nC4ZsTX7mrpj",
        "outputId": "284beff5-f449-4efd-a137-51100e9a9fcc"
      },
      "execution_count": null,
      "outputs": [
        {
          "output_type": "stream",
          "name": "stdout",
          "text": [
            "Enter a number:23\n",
            "2\n"
          ]
        }
      ]
    },
    {
      "cell_type": "code",
      "source": [
        "strg=input(\"Enter a string:\")\n",
        "count={}\n",
        "for a in strg:\n",
        "  if a in count:\n",
        "    count[a]+=1\n",
        "  else:\n",
        "    count[a]=1\n",
        "print(\"Occurrences of each charecter:\")\n",
        "for a,n in count.items():\n",
        "  print(f\"{a}:{n}\")"
      ],
      "metadata": {
        "colab": {
          "base_uri": "https://localhost:8080/"
        },
        "id": "2obMWmoGpqxk",
        "outputId": "f0d14d35-8c61-4da4-dd20-e940dccff0e7"
      },
      "execution_count": null,
      "outputs": [
        {
          "output_type": "stream",
          "name": "stdout",
          "text": [
            "Enter a string:shahana\n",
            "Occurrences of each charecter:\n",
            "s:1\n",
            "h:2\n",
            "a:3\n",
            "n:1\n"
          ]
        }
      ]
    },
    {
      "cell_type": "code",
      "source": [
        "fruit=[\"banana\",\"apple\",\"mango\",\"orange\"]\n",
        "for i in (fruit):\n",
        "  if i=='apple':\n",
        "    continue\n",
        "  print(i)"
      ],
      "metadata": {
        "colab": {
          "base_uri": "https://localhost:8080/"
        },
        "id": "vNorNUrmzyPw",
        "outputId": "b99199d4-d37b-411f-8030-502eacd59ba7"
      },
      "execution_count": null,
      "outputs": [
        {
          "output_type": "stream",
          "name": "stdout",
          "text": [
            "banana\n",
            "mango\n",
            "orange\n"
          ]
        }
      ]
    },
    {
      "cell_type": "code",
      "source": [
        "fruit=[\"banana\",\"apple\",\"mango\",\"orange\"]\n",
        "for i in (fruit):\n",
        "  if i=='apple':\n",
        "    break\n",
        "  print(i)"
      ],
      "metadata": {
        "colab": {
          "base_uri": "https://localhost:8080/"
        },
        "id": "4AF3yQyS8vJD",
        "outputId": "deddfa7a-f387-4312-9705-2e6d0726c16d"
      },
      "execution_count": null,
      "outputs": [
        {
          "output_type": "stream",
          "name": "stdout",
          "text": [
            "banana\n"
          ]
        }
      ]
    },
    {
      "cell_type": "code",
      "source": [
        "num=0\n",
        "while num<10:\n",
        "  num+=1\n",
        "  if num==6:\n",
        "    continue\n",
        "  print(num)"
      ],
      "metadata": {
        "colab": {
          "base_uri": "https://localhost:8080/"
        },
        "id": "0de2GNaYBQl2",
        "outputId": "ec074355-c501-438b-919a-09fbc06d9cf4"
      },
      "execution_count": null,
      "outputs": [
        {
          "output_type": "stream",
          "name": "stdout",
          "text": [
            "1\n",
            "2\n",
            "3\n",
            "4\n",
            "5\n",
            "7\n",
            "8\n",
            "9\n",
            "10\n"
          ]
        }
      ]
    },
    {
      "cell_type": "code",
      "source": [
        "num=0\n",
        "while num<10:\n",
        "  num+=1\n",
        "  if num==6:\n",
        "    break\n",
        "  print(num)"
      ],
      "metadata": {
        "id": "lc8xkJJdClE5",
        "colab": {
          "base_uri": "https://localhost:8080/"
        },
        "outputId": "754b30e2-9b38-442f-8c12-6f0021b2aafa"
      },
      "execution_count": null,
      "outputs": [
        {
          "output_type": "stream",
          "name": "stdout",
          "text": [
            "1\n",
            "2\n",
            "3\n",
            "4\n",
            "5\n"
          ]
        }
      ]
    },
    {
      "cell_type": "code",
      "source": [
        "def msg(name):\n",
        "  print(\"hello \"+name)\n",
        "msg(\"ansha\")"
      ],
      "metadata": {
        "id": "aj-H47UJG3Sb",
        "colab": {
          "base_uri": "https://localhost:8080/"
        },
        "outputId": "877f767e-0b66-4f2e-a70d-731d6586aed3"
      },
      "execution_count": null,
      "outputs": [
        {
          "output_type": "stream",
          "name": "stdout",
          "text": [
            "hello ansha\n"
          ]
        }
      ]
    },
    {
      "cell_type": "code",
      "source": [
        "def add(num1,num2,num3):\n",
        "  print(num1+num2+num3)\n",
        "add(1,2,3)"
      ],
      "metadata": {
        "colab": {
          "base_uri": "https://localhost:8080/"
        },
        "id": "gDAk0gy1UdSg",
        "outputId": "fae2e7a2-00b9-4726-ed51-d3829fa0ce6f"
      },
      "execution_count": null,
      "outputs": [
        {
          "output_type": "stream",
          "name": "stdout",
          "text": [
            "6\n"
          ]
        }
      ]
    },
    {
      "cell_type": "code",
      "source": [
        "def squar(num1):\n",
        "  print(num1*num1)\n",
        "squar(3)"
      ],
      "metadata": {
        "colab": {
          "base_uri": "https://localhost:8080/"
        },
        "id": "tgU55RRuXCMS",
        "outputId": "0ab16525-fbeb-436f-9515-1957cdb05b65"
      },
      "execution_count": null,
      "outputs": [
        {
          "output_type": "stream",
          "name": "stdout",
          "text": [
            "9\n"
          ]
        }
      ]
    },
    {
      "cell_type": "code",
      "source": [
        "import math\n",
        "a=int(input(\"Enter a number:\"))\n",
        "result=math.sqrt(a)\n",
        "print(result)"
      ],
      "metadata": {
        "colab": {
          "base_uri": "https://localhost:8080/"
        },
        "id": "VVjLcCkiYsc9",
        "outputId": "b4351b17-d810-48ed-97e1-c454e6e4812b"
      },
      "execution_count": null,
      "outputs": [
        {
          "output_type": "stream",
          "name": "stdout",
          "text": [
            "Enter a number:81\n",
            "9.0\n"
          ]
        }
      ]
    },
    {
      "cell_type": "code",
      "source": [
        "import math\n",
        "a=int(input(\"enter a number:\"))\n",
        "b=int(input(\"enter a power:\"))\n",
        "res=math.pow(a,b)\n",
        "print(res)"
      ],
      "metadata": {
        "colab": {
          "base_uri": "https://localhost:8080/"
        },
        "id": "GRn2_PTKaxLW",
        "outputId": "2989cc35-8e55-4f35-8e84-09d33594edaa"
      },
      "execution_count": null,
      "outputs": [
        {
          "output_type": "stream",
          "name": "stdout",
          "text": [
            "enter a number:2\n",
            "enter a power:2\n",
            "4.0\n"
          ]
        }
      ]
    },
    {
      "cell_type": "code",
      "source": [
        "def mult():\n",
        "  a=int(input(\"Enter a number:\"))\n",
        "  b=int(input(\"Enter a limit:\"))\n",
        "  for i in range(1,b+1):\n",
        "    res=a*i\n",
        "    print(a,\"*\",i,\"=\",res)\n",
        "mult()"
      ],
      "metadata": {
        "colab": {
          "base_uri": "https://localhost:8080/"
        },
        "id": "xWI80N2fb_YI",
        "outputId": "fc04410b-ee2b-42cf-c023-ee2ce8f1f8a2"
      },
      "execution_count": null,
      "outputs": [
        {
          "output_type": "stream",
          "name": "stdout",
          "text": [
            "Enter a number:2\n",
            "Enter a limit:4\n",
            "2 * 1 = 2\n",
            "2 * 2 = 4\n",
            "2 * 3 = 6\n",
            "2 * 4 = 8\n"
          ]
        }
      ]
    },
    {
      "cell_type": "code",
      "source": [
        "def sum(numbers):\n",
        "  total=0\n",
        "  for i in numbers:\n",
        "    total=total+i\n",
        "  return total\n",
        "print(sum([1,2,3,4]))"
      ],
      "metadata": {
        "id": "JR25qrFHeovi",
        "colab": {
          "base_uri": "https://localhost:8080/"
        },
        "outputId": "3edd5cca-b2b4-42ca-8053-da9b67c0e574"
      },
      "execution_count": null,
      "outputs": [
        {
          "output_type": "stream",
          "name": "stdout",
          "text": [
            "10\n"
          ]
        }
      ]
    },
    {
      "cell_type": "code",
      "source": [
        "def num(multiply):\n",
        "  res=1\n",
        "  for i in multiply:\n",
        "    res=res*i\n",
        "  return res\n",
        "print(num([5,2]))"
      ],
      "metadata": {
        "colab": {
          "base_uri": "https://localhost:8080/"
        },
        "id": "6p_2Xqr90BW1",
        "outputId": "e0601341-4ef0-475f-fae6-e43efeda7317"
      },
      "execution_count": null,
      "outputs": [
        {
          "output_type": "stream",
          "name": "stdout",
          "text": [
            "10\n"
          ]
        }
      ]
    },
    {
      "cell_type": "code",
      "source": [
        "def reverse(a):\n",
        "  b=a[::-1]\n",
        "  return b\n",
        "c=\"ansha\"\n",
        "print(reverse(c))"
      ],
      "metadata": {
        "colab": {
          "base_uri": "https://localhost:8080/"
        },
        "id": "BnydhMkq7qMh",
        "outputId": "c7c53d7f-6944-4963-ae26-e619bce16c4d"
      },
      "execution_count": null,
      "outputs": [
        {
          "output_type": "stream",
          "name": "stdout",
          "text": [
            "ahsna\n"
          ]
        }
      ]
    },
    {
      "cell_type": "code",
      "source": [
        "def even(num):\n",
        "  for i in num:\n",
        "    if i%2==0:\n",
        "      print(i)\n",
        "a=[1,2,3,4,5,6,7,8,9,10]\n",
        "even(a)"
      ],
      "metadata": {
        "colab": {
          "base_uri": "https://localhost:8080/"
        },
        "id": "GLC1fVtL8lPU",
        "outputId": "eb93cea9-ad65-4d97-fc2e-f72d249fcd5f"
      },
      "execution_count": null,
      "outputs": [
        {
          "output_type": "stream",
          "name": "stdout",
          "text": [
            "2\n",
            "4\n",
            "6\n",
            "8\n",
            "10\n"
          ]
        }
      ]
    },
    {
      "cell_type": "code",
      "source": [
        "a=input(\"Enter a string:\")\n",
        "a=a.replace(\" \",\"\")\n",
        "a=a.lower()\n",
        "if a==a[::-1]:\n",
        "  print(\"The string is palindrom\")\n",
        "else:\n",
        "  print(\"The string is not palindrom\")\n"
      ],
      "metadata": {
        "colab": {
          "base_uri": "https://localhost:8080/"
        },
        "id": "qc_Rj3IbBr9S",
        "outputId": "a6cdc0be-e6de-46a2-a421-b4a883d75c0d"
      },
      "execution_count": null,
      "outputs": [
        {
          "output_type": "stream",
          "name": "stdout",
          "text": [
            "Enter a string:Malayalam\n",
            "The string is palindrom\n"
          ]
        }
      ]
    },
    {
      "cell_type": "code",
      "source": [
        "def add(a,b):\n",
        "  return a+b\n",
        "def sub(a,b):\n",
        "  return a-b\n",
        "def mult(a,b):\n",
        "  return a*b\n",
        "def div(a,b):\n",
        "  if b!=0:\n",
        "    return a/b\n",
        "  else:\n",
        "    return \"invalid input\"\n",
        "while True:\n",
        "  print(\"Select operation\")\n",
        "  print(\"1.Add\")\n",
        "  print(\"2.Substraction\")\n",
        "  print(\"3.multiplication\")\n",
        "  print(\"4.Divition\")\n",
        "  print(\"5.Exit\")\n",
        "  choice=input(\"Enter choice(1/2/3/4/5):\")\n",
        "  if choice=='5':\n",
        "    print(\"Exiting the calculator\")\n",
        "    break\n",
        "  if choice>'5':\n",
        "    print(\"invalid\")\n",
        "    break\n",
        "  num1=int(input(\"Enter a first number:\"))\n",
        "  num2=int(input(\"Enter a seconde number:\"))\n",
        "  if choice=='1':\n",
        "    print(\"result:\",add(num1,num2))\n",
        "  elif choice=='2':\n",
        "    print(\"result:\",sub(num1,num2))\n",
        "  elif choice=='3':\n",
        "    print(\"result:\",mult(num1,num2))\n",
        "  elif choice=='4':\n",
        "    print(\"result:\",div(num1,num2))"
      ],
      "metadata": {
        "colab": {
          "base_uri": "https://localhost:8080/"
        },
        "id": "qTDhnCBPGcSu",
        "outputId": "2ec5444a-ba12-4763-e050-42113050f4d1"
      },
      "execution_count": null,
      "outputs": [
        {
          "output_type": "stream",
          "name": "stdout",
          "text": [
            "Select operation\n",
            "1.Add\n",
            "2.Substraction\n",
            "3.multiplication\n",
            "4.Divition\n",
            "5.Exit\n",
            "Enter choice(1/2/3/4/5):5\n",
            "Exiting the calculator\n"
          ]
        }
      ]
    },
    {
      "cell_type": "code",
      "source": [],
      "metadata": {
        "id": "-xFBrCwqRm7t"
      },
      "execution_count": null,
      "outputs": []
    }
  ]
}